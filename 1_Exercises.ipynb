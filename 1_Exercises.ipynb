{
 "cells": [
  {
   "cell_type": "markdown",
   "id": "38e188a5",
   "metadata": {},
   "source": [
    "# Exercise 00\n",
    "Write a piece of code that allocates a list of 20 integers and initializes each element by its index multiplied by 5. Print the result."
   ]
  },
  {
   "cell_type": "code",
   "execution_count": 7,
   "id": "f9a89680",
   "metadata": {},
   "outputs": [
    {
     "name": "stdout",
     "output_type": "stream",
     "text": [
      "[0, 5, 10, 15, 20, 25, 30, 35, 40, 45, 50, 55, 60, 65, 70, 75, 80, 85, 90, 95]\n"
     ]
    }
   ],
   "source": [
    "result_list = [index * 5 for index in range(20)]\n",
    "print(result_list)"
   ]
  },
  {
   "cell_type": "markdown",
   "id": "529d91ae",
   "metadata": {},
   "source": [
    "# Exercise 01\n",
    "Define a function that takes an integer as input, prints  all integers that it is divisable by, and returns the largest one."
   ]
  },
  {
   "cell_type": "code",
   "execution_count": 1,
   "id": "30e79132",
   "metadata": {},
   "outputs": [
    {
     "name": "stdout",
     "output_type": "stream",
     "text": [
      "100\n",
      "divisible by 1\n",
      "divisible by 2\n",
      "divisible by 4\n",
      "divisible by 5\n",
      "divisible by 10\n",
      "divisible by 20\n",
      "divisible by 25\n",
      "divisible by 50\n",
      "divisible by 100\n",
      "the largest divisor is 100\n"
     ]
    }
   ],
   "source": [
    "import math\n",
    "\n",
    "x= int(input())\n",
    "\n",
    "for i in range(1,x+1):\n",
    "    if x%i==0:\n",
    "        print(\"divisible by\", i)\n",
    "\n",
    "print(\"the largest divisor is\", math.gcd(x,i))"
   ]
  },
  {
   "cell_type": "markdown",
   "id": "cfbe30d4",
   "metadata": {},
   "source": [
    "# Exercise 02\n",
    "- create a dictionary with 6 keys and values of your choice\n",
    "- write a function that takes a dictionary and a value as input and returns whether the value occurs as a key in the dictionary\n",
    "- write a function that takes a dictionary as input, and returns the dictionary but the keys are swapped with their values (resolve the issue if a value occurs twice!)"
   ]
  },
  {
   "cell_type": "code",
   "execution_count": 6,
   "id": "fd5bdbb4",
   "metadata": {},
   "outputs": [
    {
     "name": "stdout",
     "output_type": "stream",
     "text": [
      "Input a key value: hi\n",
      "Key 'hi' is not present\n"
     ]
    }
   ],
   "source": [
    "def checkKey(this_dict, key):\n",
    "    if key in this_dict:\n",
    "        print(f\"Key '{key}' is present, value: {this_dict[key]}\")\n",
    "    else:\n",
    "        print(f\"Key '{key}' is not present\")\n",
    "\n",
    "this_dict = {\n",
    "    'day': 'Tuesday',\n",
    "    'weather': 'sunny',\n",
    "    'color': 'red',\n",
    "    'drink': 'coffee',\n",
    "    'clothes': 'skirt',\n",
    "    'person': 'Madonna'\n",
    "}\n",
    "\n",
    "key = input(\"Input a key value: \") \n",
    "checkKey(this_dict, key) "
   ]
  },
  {
   "cell_type": "markdown",
   "id": "b4b4e426",
   "metadata": {},
   "source": [
    "# Exercise 03\n",
    "Define a function that creates a dictionary of the first n fibonacci numbers as values paired with their indices as keys. "
   ]
  },
  {
   "cell_type": "code",
   "execution_count": 11,
   "id": "19eb6377",
   "metadata": {},
   "outputs": [
    {
     "name": "stdout",
     "output_type": "stream",
     "text": [
      "{0: 0, 1: 1, 2: 1, 3: 2, 4: 3, 5: 5, 6: 8, 7: 13, 8: 21, 9: 34, 10: 55, 11: 89, 12: 144, 13: 233, 14: 377, 15: 610}\n"
     ]
    }
   ],
   "source": [
    "def generate_fibonacci_dictionary(n):\n",
    "    if n <= 0:\n",
    "        return {}\n",
    "    fibonacci_dict = {} \n",
    "    a, b = 0, 1\n",
    "    \n",
    "    for i in range(n):\n",
    "        fibonacci_dict[i] = a\n",
    "        a, b = b, a + b\n",
    "        \n",
    "    return fibonacci_dict\n",
    "n = 16\n",
    "fib_dict = generate_fibonacci_dictionary(n)\n",
    "print(fib_dict)"
   ]
  },
  {
   "cell_type": "code",
   "execution_count": null,
   "id": "972f7237",
   "metadata": {},
   "outputs": [],
   "source": []
  }
 ],
 "metadata": {
  "kernelspec": {
   "display_name": "Python 3 (ipykernel)",
   "language": "python",
   "name": "python3"
  },
  "language_info": {
   "codemirror_mode": {
    "name": "ipython",
    "version": 3
   },
   "file_extension": ".py",
   "mimetype": "text/x-python",
   "name": "python",
   "nbconvert_exporter": "python",
   "pygments_lexer": "ipython3",
   "version": "3.11.5"
  }
 },
 "nbformat": 4,
 "nbformat_minor": 5
}
