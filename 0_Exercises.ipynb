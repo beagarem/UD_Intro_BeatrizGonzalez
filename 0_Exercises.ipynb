{
 "cells": [
  {
   "cell_type": "markdown",
   "id": "529d91ae",
   "metadata": {},
   "source": [
    "# Exercise 00\n",
    "Write a bit of code that prints _Introduction to Programming_ to the console and execute the cell"
   ]
  },
  {
   "cell_type": "code",
   "execution_count": 1,
   "id": "98711beb",
   "metadata": {},
   "outputs": [
    {
     "name": "stdout",
     "output_type": "stream",
     "text": [
      "Introduction to Programming\n"
     ]
    }
   ],
   "source": [
    "print(\"Introduction to Programming\")"
   ]
  },
  {
   "cell_type": "markdown",
   "id": "63ad5023",
   "metadata": {},
   "source": [
    "-----------------------------------------------------------------------------\n",
    "# Exercise 01\n",
    "Hello World is traditionally the first program anyone writes. It is\n",
    "very simple and the only thing it should do is print Hello World! to the\n",
    "terminal window.\n",
    "Create a file called HelloWorld.py and edit the contents so it prints Hello World! to the terminal and execute it using the command line."
   ]
  },
  {
   "cell_type": "markdown",
   "id": "a4a7c4c2",
   "metadata": {},
   "source": [
    "-----------------------------------------------------------------------------\n",
    "# Exercise 02\n",
    "Write some code to print your name, email, and age on separate lines. For each element first assign it to a variable and use the variable to print. \n",
    "\n",
    "Bonus: try to create the print statement for all variable in one line of code. (hint: '\\n' is the character for a new line)"
   ]
  },
  {
   "cell_type": "code",
   "execution_count": 2,
   "id": "fbdcfba3",
   "metadata": {},
   "outputs": [
    {
     "name": "stdout",
     "output_type": "stream",
     "text": [
      " Beatriz \n",
      " ucbvbgo@ucl.ac.uk \n",
      " 26\n"
     ]
    }
   ],
   "source": [
    "print(\" Beatriz \\n ucbvbgo@ucl.ac.uk \\n 26\")\n",
    "\n",
    "        \n"
   ]
  },
  {
   "cell_type": "markdown",
   "id": "0dd1c1d1",
   "metadata": {},
   "source": [
    "-----------------------------------------------------------------------------\n",
    "# Exercise 03\n",
    "Print the numbers 0, 178, -21, 2938 divided by 49, 436 multiplied with 9948 and 12 to the power of 20\n",
    "\n",
    "(Hint: Look up the documentation of basic arithmetic operators)"
   ]
  },
  {
   "cell_type": "code",
   "execution_count": 3,
   "id": "f3d5d009",
   "metadata": {},
   "outputs": [
    {
     "name": "stdout",
     "output_type": "stream",
     "text": [
      "0\n",
      "178\n",
      "-21\n",
      "59.95918367346939\n",
      "4337328\n",
      "3833759992447475122176\n"
     ]
    }
   ],
   "source": [
    "print(0)\n",
    "print(178)\n",
    "print(-21)\n",
    "print(2938/49)\n",
    "print(436*9948)\n",
    "print(12**20)\n"
   ]
  },
  {
   "cell_type": "markdown",
   "id": "1f151455",
   "metadata": {},
   "source": [
    "-----------------------------------------------------------------------------\n",
    "# Exercise 04\n",
    "Print sin(200), cos(100), tan($\\pi$/4)\n",
    "\n",
    "(Hint: Look up for how to use trigonometric function, and how to get the value of $\\pi$.)"
   ]
  },
  {
   "cell_type": "code",
   "execution_count": 4,
   "id": "185c9aa7",
   "metadata": {},
   "outputs": [
    {
     "name": "stdout",
     "output_type": "stream",
     "text": [
      "-0.34202014332566866\n",
      "-0.1736481776669303\n",
      "0.9999999999999999\n"
     ]
    }
   ],
   "source": [
    "import math\n",
    "\n",
    "print(math.sin(math.radians(200)))\n",
    "print(math.cos(math.radians(100))) \n",
    "print(math.tan(math.pi/4))"
   ]
  },
  {
   "cell_type": "markdown",
   "id": "e3734460",
   "metadata": {},
   "source": [
    "-----------------------------------------------------------------------------\n",
    "# Exercise 05\n",
    "Write a program to read your first and last names from the console seperately, and then print them on the console together, separated by a space."
   ]
  },
  {
   "cell_type": "code",
   "execution_count": 2,
   "id": "4c7217e0",
   "metadata": {},
   "outputs": [
    {
     "name": "stdout",
     "output_type": "stream",
     "text": [
      "Beatriz\n",
      "Gonzalez Arechiga Martinez\n",
      "Beatriz Gonzalez Arechiga Martinez\n"
     ]
    }
   ],
   "source": [
    "user_input = input\n",
    "firstname = input()\n",
    "lastname = input()\n",
    "print(firstname + \" \" + lastname)"
   ]
  },
  {
   "cell_type": "markdown",
   "id": "e83fa346",
   "metadata": {},
   "source": [
    "-----------------------------------------------------------------------------\n",
    "# Exercise 06\n",
    "Write a program that determines whether a number given as user input is positive or negative\n",
    " \n",
    "You will need to convert the console input from a string to a number first!"
   ]
  },
  {
   "cell_type": "code",
   "execution_count": 3,
   "id": "ecd924c2",
   "metadata": {},
   "outputs": [
    {
     "name": "stdout",
     "output_type": "stream",
     "text": [
      "Number 23\n",
      "Number is positive\n"
     ]
    }
   ],
   "source": [
    "number = int(input(\"Number\" + \" \"))\n",
    "if number <0:\n",
    "        print (\"Number is negative\")\n",
    "else:\n",
    "    print (\"Number is positive\")"
   ]
  },
  {
   "cell_type": "markdown",
   "id": "2a192596",
   "metadata": {},
   "source": [
    "-----------------------------------------------------------------------------\n",
    "# Exercise 07\n",
    "Write a program that picks a random number between 1-20 and makes the user guess until they get the number right. Then print a congratulations message\n",
    "- (Find out yourself how to generate a random integer)\n",
    "- Bonus: make the user choose the range within which they have to guess\n",
    "- Bonus: keep track of how many guesses were made and print this at the end"
   ]
  },
  {
   "cell_type": "code",
   "execution_count": 1,
   "id": "70358dd3",
   "metadata": {},
   "outputs": [
    {
     "name": "stdout",
     "output_type": "stream",
     "text": [
      "Guess a number between 1 and 20: 3\n",
      "Please try again\n",
      "Guess number:  1\n",
      "Guess a number between 1 and 20: 4\n",
      "Please try again\n",
      "Guess number:  2\n",
      "Guess a number between 1 and 20: 5\n",
      "Please try again\n",
      "Guess number:  3\n",
      "Guess a number between 1 and 20: 6\n",
      "Please try again\n",
      "Guess number:  4\n",
      "Guess a number between 1 and 20: 7\n",
      "Please try again\n",
      "Guess number:  5\n",
      "Guess a number between 1 and 20: 8\n",
      "Please try again\n",
      "Guess number:  6\n",
      "Guess a number between 1 and 20: 9\n",
      "Please try again\n",
      "Guess number:  7\n",
      "Guess a number between 1 and 20: 0\n",
      "Please try again\n",
      "Guess number:  8\n",
      "Guess a number between 1 and 20: 1\n",
      "Please try again\n",
      "Guess number:  9\n",
      "Guess a number between 1 and 20: 10\n",
      "Please try again\n",
      "Guess number:  10\n",
      "Guess a number between 1 and 20: 11\n",
      "Please try again\n",
      "Guess number:  11\n",
      "Guess a number between 1 and 20: 12\n",
      "Please try again\n",
      "Guess number:  12\n",
      "Guess a number between 1 and 20: 13\n",
      "You are right!\n",
      "Guess number:  13\n"
     ]
    }
   ],
   "source": [
    "import random \n",
    "\n",
    "num1 = (random.randint(1,20))\n",
    "guess_number = 0\n",
    "\n",
    "while True: \n",
    "    user_input = int(input(\"Guess a number between 1 and 20: \"))\n",
    "    \n",
    "    if user_input != num1:\n",
    "        print(\"Please try again\")\n",
    "        guess_number += 1 \n",
    "        print(\"Guess number: \", + guess_number)\n",
    "        \n",
    "    else:\n",
    "        print(\"You are right!\")\n",
    "        guess_number += 1\n",
    "        print(\"Guess number: \", + guess_number)\n",
    "        break\n",
    "        "
   ]
  },
  {
   "cell_type": "markdown",
   "id": "d53b9c07",
   "metadata": {},
   "source": [
    "-----------------------------------------------------------------------------\n",
    "# Exercise 08\n",
    "Ask a sentence as input, then print the words in alphabetical order.\n",
    "Hint: look up how to split up a string"
   ]
  },
  {
   "cell_type": "code",
   "execution_count": null,
   "id": "b6524cf5",
   "metadata": {},
   "outputs": [],
   "source": [
    "sentence = input(\"Input a sentence\")\n",
    "words = sentence.split()\n",
    "\n",
    "ordered_words = sorted(words)\n",
    "print(\"In alphabetical order:\")\n",
    "for word in ordered_words:\n",
    "    print(word)\n"
   ]
  },
  {
   "cell_type": "markdown",
   "id": "09a7b060",
   "metadata": {},
   "source": [
    "-----------------------------------------------------------------------------\n",
    "# Exercise 09\n",
    "Write a program using for loops to print a christmas tree of x lines high\n",
    "specified by the user.\n",
    "(use for loops)\n",
    "so for instance, a chrismas tree of 4 high should looks like this:\n",
    "\n",
    "```\n",
    "\n",
    "    *\n",
    "   ***\n",
    "  *****\n",
    " *******\n",
    "    |\n",
    "\n",
    "```\n",
    "\n",
    "hint: first combine strings into a variable before printing"
   ]
  },
  {
   "cell_type": "code",
   "execution_count": null,
   "id": "5150f7a4",
   "metadata": {},
   "outputs": [],
   "source": []
  },
  {
   "cell_type": "markdown",
   "id": "07f67531",
   "metadata": {},
   "source": [
    "-----------------------------------------------------------------------------\n",
    "# Exercise 10\n",
    "Write a piece of code that prints the first $n$ numbers of the padovan sequence"
   ]
  },
  {
   "cell_type": "code",
   "execution_count": null,
   "id": "d301c61b",
   "metadata": {},
   "outputs": [],
   "source": []
  }
 ],
 "metadata": {
  "kernelspec": {
   "display_name": "Python 3 (ipykernel)",
   "language": "python",
   "name": "python3"
  },
  "language_info": {
   "codemirror_mode": {
    "name": "ipython",
    "version": 3
   },
   "file_extension": ".py",
   "mimetype": "text/x-python",
   "name": "python",
   "nbconvert_exporter": "python",
   "pygments_lexer": "ipython3",
   "version": "3.11.5"
  }
 },
 "nbformat": 4,
 "nbformat_minor": 5
}
